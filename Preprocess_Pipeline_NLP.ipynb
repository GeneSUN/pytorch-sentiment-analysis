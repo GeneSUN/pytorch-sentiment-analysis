{
  "nbformat": 4,
  "nbformat_minor": 0,
  "metadata": {
    "colab": {
      "provenance": [],
      "toc_visible": true,
      "authorship_tag": "ABX9TyMs4/LpHylnkSRxId6U7Jrg",
      "include_colab_link": true
    },
    "kernelspec": {
      "name": "python3",
      "display_name": "Python 3"
    },
    "language_info": {
      "name": "python"
    }
  },
  "cells": [
    {
      "cell_type": "markdown",
      "metadata": {
        "id": "view-in-github",
        "colab_type": "text"
      },
      "source": [
        "<a href=\"https://colab.research.google.com/github/GeneSUN/pytorch-sentiment-analysis/blob/master/Preprocess_Pipeline_NLP.ipynb\" target=\"_parent\"><img src=\"https://colab.research.google.com/assets/colab-badge.svg\" alt=\"Open In Colab\"/></a>"
      ]
    },
    {
      "cell_type": "markdown",
      "source": [
        "Step 1: Create a dataset object"
      ],
      "metadata": {
        "id": "p3vXZvEqdcii"
      }
    },
    {
      "cell_type": "code",
      "execution_count": null,
      "metadata": {
        "id": "G-GAQW7OdQGy"
      },
      "outputs": [],
      "source": [
        "!pip uninstall -y torch torchdata torchvision torchtext torchaudio fastai\n",
        "!pip install portalocker\n",
        "!pip install --pre torch torchdata -f https://download.pytorch.org/whl/nightly/cpu/torch_nightly.html"
      ]
    },
    {
      "cell_type": "code",
      "source": [
        "!pip install torchtext"
      ],
      "metadata": {
        "id": "0CwFy62CdZBS"
      },
      "execution_count": 4,
      "outputs": []
    },
    {
      "cell_type": "markdown",
      "source": [
        "# Step 1: Create a dataset object"
      ],
      "metadata": {
        "id": "N053Sou0fRr1"
      }
    },
    {
      "cell_type": "code",
      "source": [
        "import torch"
      ],
      "metadata": {
        "id": "8CEIjzSvf9zS"
      },
      "execution_count": 6,
      "outputs": []
    },
    {
      "cell_type": "code",
      "source": [
        "from torchtext.datasets import IMDB\n",
        "train_iter, test_iter = IMDB(split=('train', 'test'))"
      ],
      "metadata": {
        "id": "sGPt8D0kfKFR"
      },
      "execution_count": 16,
      "outputs": []
    },
    {
      "cell_type": "markdown",
      "source": [
        "## check dimension and content"
      ],
      "metadata": {
        "id": "oIW0mxMbiKmU"
      }
    },
    {
      "cell_type": "code",
      "source": [
        "print(len(list(iter(train_iter))))\n",
        "# my_list = list(my_generator)"
      ],
      "metadata": {
        "colab": {
          "base_uri": "https://localhost:8080/"
        },
        "id": "wOWo_9DTgB4H",
        "outputId": "b9ee1cc1-0123-44d5-a690-0b80ca18fed3"
      },
      "execution_count": 11,
      "outputs": [
        {
          "output_type": "stream",
          "name": "stdout",
          "text": [
            "25000\n"
          ]
        }
      ]
    },
    {
      "cell_type": "code",
      "source": [
        "# Get the number of examples in the training set\n",
        "num_train_examples = sum(1 for _ in train_iter)\n",
        "\n",
        "# Get the number of examples in the test set\n",
        "num_test_examples = sum(1 for _ in test_iter)\n",
        "\n",
        "print(\"Number of training examples:\", num_train_examples)\n",
        "print(\"Number of test examples:\", num_test_examples)"
      ],
      "metadata": {
        "colab": {
          "base_uri": "https://localhost:8080/"
        },
        "id": "k8GFF4nDg67M",
        "outputId": "ce8d8361-e3ff-4ea2-b6c2-299e55f0017e"
      },
      "execution_count": 12,
      "outputs": [
        {
          "output_type": "stream",
          "name": "stdout",
          "text": [
            "Number of training examples: 25000\n",
            "Number of test examples: 25000\n"
          ]
        }
      ]
    },
    {
      "cell_type": "markdown",
      "source": [
        "To print out the raw data, you can call the next() function on the IterableDataset."
      ],
      "metadata": {
        "id": "eJpdR4cziVj1"
      }
    },
    {
      "cell_type": "code",
      "source": [
        "next(iter(train_iter))\n",
        "next(iter(train_iter))\n",
        "next(iter(train_iter))\n",
        "next(iter(train_iter))"
      ],
      "metadata": {
        "colab": {
          "base_uri": "https://localhost:8080/"
        },
        "id": "3BF1DVxgiVEv",
        "outputId": "438c4452-0d59-41d3-deec-c2aad0dee949"
      },
      "execution_count": 97,
      "outputs": [
        {
          "output_type": "execute_result",
          "data": {
            "text/plain": [
              "(1,\n",
              " 'I rented I AM CURIOUS-YELLOW from my video store because of all the controversy that surrounded it when it was first released in 1967. I also heard that at first it was seized by U.S. customs if it ever tried to enter this country, therefore being a fan of films considered \"controversial\" I really had to see this for myself.<br /><br />The plot is centered around a young Swedish drama student named Lena who wants to learn everything she can about life. In particular she wants to focus her attentions to making some sort of documentary on what the average Swede thought about certain political issues such as the Vietnam War and race issues in the United States. In between asking politicians and ordinary denizens of Stockholm about their opinions on politics, she has sex with her drama teacher, classmates, and married men.<br /><br />What kills me about I AM CURIOUS-YELLOW is that 40 years ago, this was considered pornographic. Really, the sex and nudity scenes are few and far between, even then it\\'s not shot like some cheaply made porno. While my countrymen mind find it shocking, in reality sex and nudity are a major staple in Swedish cinema. Even Ingmar Bergman, arguably their answer to good old boy John Ford, had sex scenes in his films.<br /><br />I do commend the filmmakers for the fact that any sex shown in the film is shown for artistic purposes rather than just to shock people and make money to be shown in pornographic theaters in America. I AM CURIOUS-YELLOW is a good film for anyone wanting to study the meat and potatoes (no pun intended) of Swedish cinema. But really, this film doesn\\'t have much of a plot.')"
            ]
          },
          "metadata": {},
          "execution_count": 97
        }
      ]
    },
    {
      "cell_type": "code",
      "source": [
        "label_list=[]\n",
        "i=0\n",
        "for (label,content) in (iter(train_iter)):\n",
        "  label_list.append(label)\n",
        "  i+=1\n",
        "  if i==25000:\n",
        "    break"
      ],
      "metadata": {
        "id": "8xMw8ef2Jd2P"
      },
      "execution_count": 101,
      "outputs": []
    },
    {
      "cell_type": "code",
      "source": [
        "unique_values = set(label_list)\n",
        "print(unique_values)"
      ],
      "metadata": {
        "colab": {
          "base_uri": "https://localhost:8080/"
        },
        "id": "SyUhF0s7Kx9O",
        "outputId": "134cef8c-6373-45ae-b8da-b94dce6d89eb"
      },
      "execution_count": 102,
      "outputs": [
        {
          "output_type": "stream",
          "name": "stdout",
          "text": [
            "{1, 2}\n"
          ]
        }
      ]
    },
    {
      "cell_type": "markdown",
      "source": [
        "You can also split the dataset using torch.utils.data.random_split(dataset, lengths)\n"
      ],
      "metadata": {
        "id": "QKncRGqHftFI"
      }
    },
    {
      "cell_type": "code",
      "source": [],
      "metadata": {
        "id": "nrcNz3yVhEDJ"
      },
      "execution_count": null,
      "outputs": []
    },
    {
      "cell_type": "markdown",
      "source": [
        "# Step 2 Build the data processing pipeline\n",
        "tokenizer -> vocab -> word vector"
      ],
      "metadata": {
        "id": "UCCbwUWBjAI_"
      }
    },
    {
      "cell_type": "markdown",
      "source": [
        "## Tokenizer"
      ],
      "metadata": {
        "id": "l3k0uCG3n3yl"
      }
    },
    {
      "cell_type": "markdown",
      "source": [
        "The tokenizer argument specifies the type of tokenizer to use.\n",
        "\n",
        "\n",
        "\n",
        "*   \"basic_english\": uses a basic English tokenizer that splits words on whitespace and punctuation.\n",
        "*   \"spacy\": uses the SpaCy tokenizer to tokenize text. This tokenizer provides more advanced tokenization that takes into account the context of the words, such as recognizing contractions and separating punctuation from words.\n",
        "*   A custom tokenizer function: you can also pass in a custom tokenizer function that takes a string as input and returns a list of tokens."
      ],
      "metadata": {
        "id": "Hi6T4q35mym2"
      }
    },
    {
      "cell_type": "code",
      "source": [
        "from torchtext.data.utils import get_tokenizer\n",
        "tokenizer = get_tokenizer('basic_english')"
      ],
      "metadata": {
        "id": "Hcmn4R8jjBXr"
      },
      "execution_count": 25,
      "outputs": []
    },
    {
      "cell_type": "code",
      "source": [
        "tokenizer('I am 1 Chi@nese and I love my hometown!')"
      ],
      "metadata": {
        "colab": {
          "base_uri": "https://localhost:8080/"
        },
        "id": "mnupo_pcngfq",
        "outputId": "9a76f524-8922-488b-ed28-36751416d88c"
      },
      "execution_count": 26,
      "outputs": [
        {
          "output_type": "execute_result",
          "data": {
            "text/plain": [
              "['i', 'am', '1', 'chi@nese', 'and', 'i', 'love', 'my', 'hometown', '!']"
            ]
          },
          "metadata": {},
          "execution_count": 26
        }
      ]
    },
    {
      "cell_type": "code",
      "source": [
        "tokenizer(next(iter(train_iter))[1])[:5]"
      ],
      "metadata": {
        "colab": {
          "base_uri": "https://localhost:8080/"
        },
        "id": "4FqJKH82nitl",
        "outputId": "df67860a-7464-4031-a8bd-ac22606101cf"
      },
      "execution_count": 28,
      "outputs": [
        {
          "output_type": "execute_result",
          "data": {
            "text/plain": [
              "['i', 'rented', 'i', 'am', 'curious-yellow']"
            ]
          },
          "metadata": {},
          "execution_count": 28
        }
      ]
    },
    {
      "cell_type": "markdown",
      "source": [
        "## Vocabulary\n",
        "Build a vocabulary with the raw training dataset using build_vocab_from_iterator. \n",
        "\n",
        "This function accepts iterator that yield list or iterator of tokens. Users can also pass any special symbols to be added to the vocabulary."
      ],
      "metadata": {
        "id": "w6kJD4aanvDT"
      }
    },
    {
      "cell_type": "code",
      "source": [
        "from torchtext.vocab import build_vocab_from_iterator"
      ],
      "metadata": {
        "id": "c4tb3yQEoh7a"
      },
      "execution_count": 29,
      "outputs": []
    },
    {
      "cell_type": "code",
      "source": [
        "train_iter = iter(IMDB(split='train'))\n",
        "\n",
        "def yield_tokens(data_iter):\n",
        "    for _, text in data_iter:\n",
        "        yield tokenizer(text)\n",
        "\n"
      ],
      "metadata": {
        "id": "pVGDmkQlnm8b"
      },
      "execution_count": 30,
      "outputs": []
    },
    {
      "cell_type": "code",
      "source": [
        "vocab = build_vocab_from_iterator(iterator=yield_tokens(train_iter), specials=[\"<unk>\"])"
      ],
      "metadata": {
        "id": "0adzqnuC1RN7"
      },
      "execution_count": 76,
      "outputs": []
    },
    {
      "cell_type": "code",
      "source": [
        "type(vocab)"
      ],
      "metadata": {
        "colab": {
          "base_uri": "https://localhost:8080/"
        },
        "id": "V3XrAGrMooI3",
        "outputId": "43aea7dd-3eb5-4399-99e0-5c8b9b8e98cf"
      },
      "execution_count": 31,
      "outputs": [
        {
          "output_type": "execute_result",
          "data": {
            "text/plain": [
              "torchtext.vocab.vocab.Vocab"
            ]
          },
          "metadata": {},
          "execution_count": 31
        }
      ]
    },
    {
      "cell_type": "markdown",
      "source": [
        "The vocabulary block converts a list of tokens into integers."
      ],
      "metadata": {
        "id": "HgCXlORwswRF"
      }
    },
    {
      "cell_type": "code",
      "source": [
        "vocab(['here', 'is', 'an', 'example','of'])"
      ],
      "metadata": {
        "colab": {
          "base_uri": "https://localhost:8080/"
        },
        "id": "etk-6TnOsy4h",
        "outputId": "27a86b6b-33c1-4b93-f1da-46db66902949"
      },
      "execution_count": 77,
      "outputs": [
        {
          "output_type": "execute_result",
          "data": {
            "text/plain": [
              "[131, 9, 40, 464, 6]"
            ]
          },
          "metadata": {},
          "execution_count": 77
        }
      ]
    },
    {
      "cell_type": "code",
      "source": [
        "vocab(['here', 'is', 'an', 'example','of','Zhe'])"
      ],
      "metadata": {
        "id": "T5ybzdEwtGma"
      },
      "execution_count": null,
      "outputs": []
    },
    {
      "cell_type": "code",
      "source": [
        "vocab.set_default_index(vocab[\"<unk>\"])"
      ],
      "metadata": {
        "id": "9O6yTlMttEJp"
      },
      "execution_count": 79,
      "outputs": []
    },
    {
      "cell_type": "code",
      "source": [
        "vocab(['here', 'is', 'an', 'example','of','Zhe'])"
      ],
      "metadata": {
        "colab": {
          "base_uri": "https://localhost:8080/"
        },
        "id": "wmeTJDsktKlw",
        "outputId": "1bb87c23-1e5a-46fb-a03b-a379aef1a8b8"
      },
      "execution_count": 80,
      "outputs": [
        {
          "output_type": "execute_result",
          "data": {
            "text/plain": [
              "[131, 9, 40, 464, 6, 0]"
            ]
          },
          "metadata": {},
          "execution_count": 80
        }
      ]
    },
    {
      "cell_type": "code",
      "source": [],
      "metadata": {
        "id": "8gGelX1ItdGr"
      },
      "execution_count": null,
      "outputs": []
    },
    {
      "cell_type": "markdown",
      "source": [
        "### Alternative to bulid vocabulary using Counter"
      ],
      "metadata": {
        "id": "zQtBX4yconub"
      }
    },
    {
      "cell_type": "code",
      "source": [
        "from torchtext.datasets import IMDB\n",
        "train_IMDB, test_IMDB = IMDB(split=('train', 'test')) "
      ],
      "metadata": {
        "id": "0u_QpR8qthyS"
      },
      "execution_count": 39,
      "outputs": []
    },
    {
      "cell_type": "code",
      "source": [
        "from collections import Counter\n",
        "from torchtext.vocab import vocab\n",
        "\n",
        "train_iter = IMDB(split='train')\n",
        "counter = Counter()\n",
        "for (label, line) in train_iter:\n",
        "    counter.update(tokenizer(line))\n",
        "vocab_imdb = vocab(counter, min_freq=10, specials=('<unk>', '<BOS>', '<EOS>'))"
      ],
      "metadata": {
        "id": "5ciw6hFgtwR0"
      },
      "execution_count": 122,
      "outputs": []
    },
    {
      "cell_type": "code",
      "source": [
        "type(vocab_imdb)"
      ],
      "metadata": {
        "colab": {
          "base_uri": "https://localhost:8080/"
        },
        "id": "-6sGoo0_uNrD",
        "outputId": "5677a997-2f85-49e9-97c4-b7da21a4744e"
      },
      "execution_count": 46,
      "outputs": [
        {
          "output_type": "execute_result",
          "data": {
            "text/plain": [
              "torchtext.vocab.vocab.Vocab"
            ]
          },
          "metadata": {},
          "execution_count": 46
        }
      ]
    },
    {
      "cell_type": "code",
      "source": [
        "vocab_imdb(['here', 'is', 'an', 'example'])"
      ],
      "metadata": {
        "colab": {
          "base_uri": "https://localhost:8080/"
        },
        "id": "a2tBc7VKuiyq",
        "outputId": "153d3b05-a876-44f7-bc9e-2d0b2ed59085"
      },
      "execution_count": 47,
      "outputs": [
        {
          "output_type": "execute_result",
          "data": {
            "text/plain": [
              "[971, 54, 197, 3455]"
            ]
          },
          "metadata": {},
          "execution_count": 47
        }
      ]
    },
    {
      "cell_type": "code",
      "source": [
        "vocab_imdb(['here', 'is', 'an', 'example','of','Zhe'])"
      ],
      "metadata": {
        "id": "VDRsOGi8uoCa"
      },
      "execution_count": null,
      "outputs": []
    },
    {
      "cell_type": "code",
      "source": [
        "vocab_imdb.set_default_index(0)"
      ],
      "metadata": {
        "id": "Nf-oiG6uuyQ7"
      },
      "execution_count": 124,
      "outputs": []
    },
    {
      "cell_type": "code",
      "source": [
        "vocab_imdb(['here', 'is', 'an', 'example','of','Zhe'])"
      ],
      "metadata": {
        "colab": {
          "base_uri": "https://localhost:8080/"
        },
        "id": "t6ox-it5vhuT",
        "outputId": "c58d349b-a2de-4608-a6c6-4ddb69859e57"
      },
      "execution_count": 125,
      "outputs": [
        {
          "output_type": "execute_result",
          "data": {
            "text/plain": [
              "[971, 54, 197, 3455, 11, 0]"
            ]
          },
          "metadata": {},
          "execution_count": 125
        }
      ]
    },
    {
      "cell_type": "code",
      "source": [
        "vocab_imdb[\"<EOS>\"]"
      ],
      "metadata": {
        "colab": {
          "base_uri": "https://localhost:8080/"
        },
        "id": "LZ505ae0w0gz",
        "outputId": "8b4b053b-3716-4254-8502-fb9d309f705a"
      },
      "execution_count": 126,
      "outputs": [
        {
          "output_type": "execute_result",
          "data": {
            "text/plain": [
              "2"
            ]
          },
          "metadata": {},
          "execution_count": 126
        }
      ]
    },
    {
      "cell_type": "code",
      "source": [
        "print(\"The length of the new vocab is\", len(vocab_imdb))\n",
        "\n",
        "print(\"The index of '' is\", vocab_imdb[''])\n",
        "\n",
        "print(\"The token at index 2 is\", vocab_imdb.lookup_token(971))"
      ],
      "metadata": {
        "colab": {
          "base_uri": "https://localhost:8080/"
        },
        "id": "nzUkDDZcwHjc",
        "outputId": "5e9b4397-15f1-463d-eddd-5ea3f534f949"
      },
      "execution_count": 73,
      "outputs": [
        {
          "output_type": "stream",
          "name": "stdout",
          "text": [
            "The length of the new vocab is 20438\n",
            "The index of '' is 0\n",
            "The token at index 2 is here\n"
          ]
        }
      ]
    },
    {
      "cell_type": "markdown",
      "source": [
        "## Generate data batch and iterator"
      ],
      "metadata": {
        "id": "OCf7Fh0Ez94g"
      }
    },
    {
      "cell_type": "code",
      "source": [
        "text_pipeline = lambda x: vocab(tokenizer(x))\n",
        "label_pipeline = lambda x: int(x) - 1"
      ],
      "metadata": {
        "id": "6j78e8cmxwzb"
      },
      "execution_count": 84,
      "outputs": []
    },
    {
      "cell_type": "code",
      "source": [],
      "metadata": {
        "id": "W7DRVVra3ATd"
      },
      "execution_count": 85,
      "outputs": []
    },
    {
      "cell_type": "code",
      "source": [
        "from torch.utils.data import DataLoader"
      ],
      "metadata": {
        "id": "WjptRSYc3nQQ"
      },
      "execution_count": 86,
      "outputs": []
    },
    {
      "cell_type": "code",
      "source": [
        "def collate_batch(batch):\n",
        "    # define the returns\n",
        "    label_list, text_list, offsets = [], [], [0]\n",
        "\n",
        "    for (_label, _text) in batch:\n",
        "         label_list.append(label_pipeline(_label))\n",
        "\n",
        "         processed_text = torch.tensor(text_pipeline(_text), dtype=torch.int64)\n",
        "         text_list.append(processed_text)\n",
        "         \n",
        "         offsets.append(processed_text.size(0))\n",
        "    \n",
        "    label_list = torch.tensor(label_list, dtype=torch.int64)\n",
        "    offsets = torch.tensor(offsets[:-1]).cumsum(dim=0)\n",
        "    text_list = torch.cat(text_list)\n",
        "\n",
        "    return label_list, text_list, offsets"
      ],
      "metadata": {
        "id": "uKmdlMWS3pFS"
      },
      "execution_count": 87,
      "outputs": []
    },
    {
      "cell_type": "code",
      "source": [
        "train_iter = IMDB(split='train')\n",
        "train_list = list(train_iter)\n",
        "batch_size = 8  # A batch size of 8\n",
        "train_dataloader = DataLoader(list(train_iter), batch_size=8, shuffle=True, \n",
        "                              collate_fn=collate_batch)"
      ],
      "metadata": {
        "id": "W20-031F4KCp"
      },
      "execution_count": 88,
      "outputs": []
    },
    {
      "cell_type": "code",
      "source": [
        "print(next(iter(train_dataloader)))"
      ],
      "metadata": {
        "colab": {
          "base_uri": "https://localhost:8080/"
        },
        "id": "Yo5He9qB4nIR",
        "outputId": "c543710f-0edd-4c6c-d9db-6a47fe866198"
      },
      "execution_count": 94,
      "outputs": [
        {
          "output_type": "stream",
          "name": "stdout",
          "text": [
            "(tensor([1, 1, 1, 0, 1, 0, 0, 1]), tensor([  53,  163, 2104,  ..., 1335, 3933,    2]), tensor([   0,   91,  195,  806,  986, 1627, 1967, 2196]))\n"
          ]
        }
      ]
    },
    {
      "cell_type": "markdown",
      "source": [],
      "metadata": {
        "id": "mE9_ezn53ouS"
      }
    },
    {
      "cell_type": "code",
      "source": [
        "i=0\n",
        "for (label,content,offsets) in (iter(train_dataloader)):\n",
        "  print(content.size())\n",
        "  i+=1\n",
        "  if i==5:\n",
        "    break"
      ],
      "metadata": {
        "colab": {
          "base_uri": "https://localhost:8080/"
        },
        "id": "MCcx9UrTKB1x",
        "outputId": "ac0408d6-4897-4f21-f4ad-83656f66c710"
      },
      "execution_count": 104,
      "outputs": [
        {
          "output_type": "stream",
          "name": "stdout",
          "text": [
            "torch.Size([1339])\n",
            "torch.Size([1844])\n",
            "torch.Size([1469])\n",
            "torch.Size([1853])\n",
            "torch.Size([2255])\n"
          ]
        }
      ]
    },
    {
      "cell_type": "code",
      "source": [
        "text_transform_imdb = lambda x: [vocab_imdb['<BOS>']] + [vocab_imdb[token] for token in tokenizer(x)] + [vocab_imdb['<EOS>']]\n",
        "label_transform_imdb = label_pipeline"
      ],
      "metadata": {
        "id": "xQ1AYH26KG-c"
      },
      "execution_count": 130,
      "outputs": []
    },
    {
      "cell_type": "code",
      "source": [
        "print(text_pipeline('I love you'))\n",
        "print(text_transform_imdb('I love you'))"
      ],
      "metadata": {
        "id": "lZgPaKfGOYJ9"
      },
      "execution_count": null,
      "outputs": []
    },
    {
      "cell_type": "code",
      "source": [
        "\n",
        "from torch.utils.data import DataLoader\n",
        "from torch.nn.utils.rnn import pad_sequence\n",
        "\n",
        "def collate_batch(batch):\n",
        "   label_list, text_list = [], []\n",
        "   for (_label, _text) in batch:\n",
        "        label_list.append(label_transform_imdb(_label))\n",
        "        processed_text = torch.tensor(text_transform_imdb(_text))\n",
        "        text_list.append(processed_text)\n",
        "   return torch.tensor(label_list), pad_sequence(text_list, padding_value=3.0)\n",
        "\n",
        "train_iter = IMDB(split='train')\n",
        "train_dataloader = DataLoader(list(train_iter), batch_size=8, shuffle=True, \n",
        "                              collate_fn=collate_batch)"
      ],
      "metadata": {
        "id": "EL6to7iULgEw"
      },
      "execution_count": 131,
      "outputs": []
    },
    {
      "cell_type": "code",
      "source": [
        "print(next(iter(train_dataloader)))"
      ],
      "metadata": {
        "colab": {
          "base_uri": "https://localhost:8080/"
        },
        "id": "Es04phiJLscr",
        "outputId": "f5c8f5c8-73a7-4632-e9ec-553ae4c71e49"
      },
      "execution_count": 132,
      "outputs": [
        {
          "output_type": "stream",
          "name": "stdout",
          "text": [
            "(tensor([1, 1, 1, 1, 0, 0, 1, 1]), tensor([[   1,    1,    1,  ...,    1,    1,    1],\n",
            "        [1936,   13, 6240,  ...,    3,   87,    3],\n",
            "        [  54,   20, 5405,  ...,  545,   43,  467],\n",
            "        ...,\n",
            "        [   3,    3,    3,  ...,    3,    3,   17],\n",
            "        [   3,    3,    3,  ...,    3,    3,  400],\n",
            "        [   3,    3,    3,  ...,    3,    3,    2]]))\n"
          ]
        }
      ]
    },
    {
      "cell_type": "code",
      "source": [
        "i=0\n",
        "for (label,content) in (iter(train_dataloader)):\n",
        "  print(content.size())\n",
        "  print(content)\n",
        "  i+=1\n",
        "  if i==5:\n",
        "    break"
      ],
      "metadata": {
        "colab": {
          "base_uri": "https://localhost:8080/"
        },
        "id": "ev1sXzFlLt2k",
        "outputId": "9ddb5b56-9397-4979-cf29-ff9594800d38"
      },
      "execution_count": 133,
      "outputs": [
        {
          "output_type": "stream",
          "name": "stdout",
          "text": [
            "torch.Size([594, 8])\n",
            "tensor([[   1,    1,    1,  ...,    1,    1,    1],\n",
            "        [2681,    3,   38,  ...,   38,   22,  766],\n",
            "        [  40,  741,   54,  ...,   54,   13,   13],\n",
            "        ...,\n",
            "        [8841,    3,    3,  ...,    3,    3,    3],\n",
            "        [  24,    3,    3,  ...,    3,    3,    3],\n",
            "        [   2,    3,    3,  ...,    3,    3,    3]])\n",
            "torch.Size([908, 8])\n",
            "tensor([[    1,     1,     1,  ...,     1,     1,     1],\n",
            "        [   38,    33,   466,  ...,  7382,   129,   108],\n",
            "        [   54,   264, 16450,  ...,  2834,     3,    11],\n",
            "        ...,\n",
            "        [    3,     3,     3,  ..., 12419,     3,     3],\n",
            "        [    3,     3,     3,  ...,    24,     3,     3],\n",
            "        [    3,     3,     3,  ...,     2,     3,     3]])\n",
            "torch.Size([640, 8])\n",
            "tensor([[    1,     1,     1,  ...,     1,     1,     1],\n",
            "        [   13,   197,    13,  ...,     3,   384, 13770],\n",
            "        [ 4965,  1004,  9479,  ...,    82,    13,  6918],\n",
            "        ...,\n",
            "        [   17,     3,     3,  ...,     3,     3,     3],\n",
            "        [   24,     3,     3,  ...,     3,     3,     3],\n",
            "        [    2,     3,     3,  ...,     3,     3,     3]])\n",
            "torch.Size([504, 8])\n",
            "tensor([[   1,    1,    1,  ...,    1,    1,    1],\n",
            "        [   0,   13,    0,  ...,   38,  765,   38],\n",
            "        [2184,  267,   54,  ...,  122, 4300,  153],\n",
            "        ...,\n",
            "        [1975,    3,    3,  ...,    3,    3,    3],\n",
            "        [  24,    3,    3,  ...,    3,    3,    3],\n",
            "        [   2,    3,    3,  ...,    3,    3,    3]])\n",
            "torch.Size([1118, 8])\n",
            "tensor([[    1,     1,     1,  ...,     1,     1,     1],\n",
            "        [   38,   255,   188,  ...,    87,   777,    13],\n",
            "        [   54,   117,   358,  ...,    43,   614,   207],\n",
            "        ...,\n",
            "        [    3, 14687,     3,  ...,     3,     3,     3],\n",
            "        [    3,    24,     3,  ...,     3,     3,     3],\n",
            "        [    3,     2,     3,  ...,     3,     3,     3]])\n"
          ]
        }
      ]
    },
    {
      "cell_type": "code",
      "source": [
        "i=0\n",
        "for (label,content) in (iter(train_dataloader)):\n",
        "  print(content.size())\n",
        "  i+=1\n",
        "  if i==5:\n",
        "    break"
      ],
      "metadata": {
        "colab": {
          "base_uri": "https://localhost:8080/"
        },
        "id": "r7lA2vsdMJsU",
        "outputId": "7e1989a8-6f36-4776-9492-87f73a67308e"
      },
      "execution_count": 135,
      "outputs": [
        {
          "output_type": "stream",
          "name": "stdout",
          "text": [
            "torch.Size([423, 8])\n",
            "torch.Size([426, 8])\n",
            "torch.Size([306, 8])\n",
            "torch.Size([738, 8])\n",
            "torch.Size([257, 8])\n"
          ]
        }
      ]
    },
    {
      "cell_type": "code",
      "source": [],
      "metadata": {
        "colab": {
          "base_uri": "https://localhost:8080/"
        },
        "id": "a46GhOhhM6G9",
        "outputId": "eb0adb79-58cf-4e0b-ed69-aed278aac61d"
      },
      "execution_count": 120,
      "outputs": [
        {
          "output_type": "execute_result",
          "data": {
            "text/plain": [
              "[0, 3, 577, 264, 0]"
            ]
          },
          "metadata": {},
          "execution_count": 120
        }
      ]
    },
    {
      "cell_type": "markdown",
      "source": [
        "# Step 4: Iterate batch to train a model"
      ],
      "metadata": {
        "id": "c8qLRpi3OMtN"
      }
    },
    {
      "cell_type": "code",
      "source": [],
      "metadata": {
        "id": "FeVJdcAmNvzu"
      },
      "execution_count": null,
      "outputs": []
    }
  ]
}